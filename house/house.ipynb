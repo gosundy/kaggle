{
 "cells": [
  {
   "cell_type": "code",
   "execution_count": 2,
   "id": "0a5d16c7",
   "metadata": {},
   "outputs": [
    {
     "name": "stdout",
     "output_type": "stream",
     "text": [
      "./sample_submission.csv\n",
      "./train.csv\n",
      "./house.ipynb\n",
      "./test.csv\n",
      "./house-prices-advanced-regression-techniques.zip\n",
      "./data_description.txt\n",
      "./.ipynb_checkpoints/house-checkpoint.ipynb\n"
     ]
    }
   ],
   "source": [
    "import os\n",
    "for dirname, _, filenames in os.walk('./'):\n",
    "    for filename in filenames:\n",
    "        print(os.path.join(dirname, filename))\n"
   ]
  },
  {
   "cell_type": "code",
   "execution_count": 3,
   "id": "00d2f18d",
   "metadata": {},
   "outputs": [],
   "source": [
    "import pandas as pd"
   ]
  },
  {
   "cell_type": "code",
   "execution_count": 4,
   "id": "73b1b730",
   "metadata": {},
   "outputs": [],
   "source": [
    "df=pd.read_csv('./train.csv')"
   ]
  },
  {
   "cell_type": "code",
   "execution_count": 5,
   "id": "5ee3ea6a",
   "metadata": {},
   "outputs": [
    {
     "data": {
      "text/plain": [
       "(1460, 81)"
      ]
     },
     "execution_count": 5,
     "metadata": {},
     "output_type": "execute_result"
    }
   ],
   "source": [
    "df.shape"
   ]
  },
  {
   "cell_type": "code",
   "execution_count": 7,
   "id": "09867397",
   "metadata": {},
   "outputs": [
    {
     "data": {
      "text/html": [
       "<div>\n",
       "<style scoped>\n",
       "    .dataframe tbody tr th:only-of-type {\n",
       "        vertical-align: middle;\n",
       "    }\n",
       "\n",
       "    .dataframe tbody tr th {\n",
       "        vertical-align: top;\n",
       "    }\n",
       "\n",
       "    .dataframe thead th {\n",
       "        text-align: right;\n",
       "    }\n",
       "</style>\n",
       "<table border=\"1\" class=\"dataframe\">\n",
       "  <thead>\n",
       "    <tr style=\"text-align: right;\">\n",
       "      <th></th>\n",
       "      <th>Id</th>\n",
       "      <th>MSSubClass</th>\n",
       "      <th>MSZoning</th>\n",
       "      <th>LotFrontage</th>\n",
       "      <th>LotArea</th>\n",
       "      <th>Street</th>\n",
       "      <th>Alley</th>\n",
       "      <th>LotShape</th>\n",
       "      <th>LandContour</th>\n",
       "      <th>Utilities</th>\n",
       "      <th>...</th>\n",
       "      <th>PoolArea</th>\n",
       "      <th>PoolQC</th>\n",
       "      <th>Fence</th>\n",
       "      <th>MiscFeature</th>\n",
       "      <th>MiscVal</th>\n",
       "      <th>MoSold</th>\n",
       "      <th>YrSold</th>\n",
       "      <th>SaleType</th>\n",
       "      <th>SaleCondition</th>\n",
       "      <th>SalePrice</th>\n",
       "    </tr>\n",
       "  </thead>\n",
       "  <tbody>\n",
       "    <tr>\n",
       "      <th>0</th>\n",
       "      <td>1</td>\n",
       "      <td>60</td>\n",
       "      <td>RL</td>\n",
       "      <td>65.0</td>\n",
       "      <td>8450</td>\n",
       "      <td>Pave</td>\n",
       "      <td>NaN</td>\n",
       "      <td>Reg</td>\n",
       "      <td>Lvl</td>\n",
       "      <td>AllPub</td>\n",
       "      <td>...</td>\n",
       "      <td>0</td>\n",
       "      <td>NaN</td>\n",
       "      <td>NaN</td>\n",
       "      <td>NaN</td>\n",
       "      <td>0</td>\n",
       "      <td>2</td>\n",
       "      <td>2008</td>\n",
       "      <td>WD</td>\n",
       "      <td>Normal</td>\n",
       "      <td>208500</td>\n",
       "    </tr>\n",
       "    <tr>\n",
       "      <th>1</th>\n",
       "      <td>2</td>\n",
       "      <td>20</td>\n",
       "      <td>RL</td>\n",
       "      <td>80.0</td>\n",
       "      <td>9600</td>\n",
       "      <td>Pave</td>\n",
       "      <td>NaN</td>\n",
       "      <td>Reg</td>\n",
       "      <td>Lvl</td>\n",
       "      <td>AllPub</td>\n",
       "      <td>...</td>\n",
       "      <td>0</td>\n",
       "      <td>NaN</td>\n",
       "      <td>NaN</td>\n",
       "      <td>NaN</td>\n",
       "      <td>0</td>\n",
       "      <td>5</td>\n",
       "      <td>2007</td>\n",
       "      <td>WD</td>\n",
       "      <td>Normal</td>\n",
       "      <td>181500</td>\n",
       "    </tr>\n",
       "  </tbody>\n",
       "</table>\n",
       "<p>2 rows × 81 columns</p>\n",
       "</div>"
      ],
      "text/plain": [
       "   Id  MSSubClass MSZoning  LotFrontage  LotArea Street Alley LotShape  \\\n",
       "0   1          60       RL         65.0     8450   Pave   NaN      Reg   \n",
       "1   2          20       RL         80.0     9600   Pave   NaN      Reg   \n",
       "\n",
       "  LandContour Utilities  ... PoolArea PoolQC Fence MiscFeature MiscVal MoSold  \\\n",
       "0         Lvl    AllPub  ...        0    NaN   NaN         NaN       0      2   \n",
       "1         Lvl    AllPub  ...        0    NaN   NaN         NaN       0      5   \n",
       "\n",
       "  YrSold  SaleType  SaleCondition  SalePrice  \n",
       "0   2008        WD         Normal     208500  \n",
       "1   2007        WD         Normal     181500  \n",
       "\n",
       "[2 rows x 81 columns]"
      ]
     },
     "execution_count": 7,
     "metadata": {},
     "output_type": "execute_result"
    }
   ],
   "source": [
    "df.head(2)"
   ]
  },
  {
   "cell_type": "code",
   "execution_count": 10,
   "id": "86215734",
   "metadata": {},
   "outputs": [
    {
     "name": "stdout",
     "output_type": "stream",
     "text": [
      "MSSubClass: Identifies the type of dwelling involved in the sale.\t\r\n",
      "\r\n",
      "        20\t1-STORY 1946 & NEWER ALL STYLES\r\n",
      "        30\t1-STORY 1945 & OLDER\r\n",
      "        40\t1-STORY W/FINISHED ATTIC ALL AGES\r\n",
      "        45\t1-1/2 STORY - UNFINISHED ALL AGES\r\n",
      "        50\t1-1/2 STORY FINISHED ALL AGES\r\n",
      "        60\t2-STORY 1946 & NEWER\r\n",
      "        70\t2-STORY 1945 & OLDER\r\n",
      "        75\t2-1/2 STORY ALL AGES\r\n",
      "        80\tSPLIT OR MULTI-LEVEL\r\n",
      "        85\tSPLIT FOYER\r\n",
      "        90\tDUPLEX - ALL STYLES AND AGES\r\n",
      "       120\t1-STORY PUD (Planned Unit Development) - 1946 & NEWER\r\n",
      "       150\t1-1/2 STORY PUD - ALL AGES\r\n",
      "       160\t2-STORY PUD - 1946 & NEWER\r\n",
      "       180\tPUD - MULTILEVEL - INCL SPLIT LEV/FOYER\r\n",
      "       190\t2 FAMILY CONVERSION - ALL STYLES AND AGES\r\n",
      "\r\n",
      "MSZoning: Identifies the general zoning classification of the sale.\r\n",
      "\t\t\r\n",
      "       A\tAgriculture\r\n",
      "       C\tCommercial\r\n",
      "       FV\tFloating Village Residential\r\n",
      "       I\tIndustrial\r\n",
      "       RH\tResidential High Density\r\n",
      "       RL\tResidential Low Density\r\n",
      "       RP\tResidential Low Density Park \r\n",
      "       RM\tResidential Medium Density\r\n",
      "\t\r\n",
      "LotFrontage: Linear feet of street connected to property\r\n",
      "\r\n",
      "LotArea: Lot size in square feet\r\n",
      "\r\n",
      "Street: Type of road access to property\r\n",
      "\r\n",
      "       Grvl\tGravel\t\r\n",
      "       Pave\tPaved\r\n",
      "       \t\r\n",
      "Alley: Type of alley access to property\r\n",
      "\r\n",
      "       Grvl\tGravel\r\n",
      "       Pave\tPaved\r\n",
      "       NA \tNo alley access\r\n",
      "\t\t\r\n",
      "LotShape: General shape of property\r\n",
      "\r\n",
      "       Reg\tRegular\t\r\n",
      "       IR1\tSlightly irregular\r\n",
      "       IR2\tModerately Irregular\r\n",
      "       IR3\tIrregular\r\n",
      "       \r\n",
      "LandContour: Flatness of the property\r\n",
      "\r\n",
      "       Lvl\tNear Flat/Level\t\r\n",
      "       Bnk\tBanked - Quick and significant rise from street grade to building\r\n",
      "       HLS\tHillside - Significant slope from side to side\r\n",
      "       Low\tDepression\r\n",
      "\t\t\r\n",
      "Utilities: Type of utilities available\r\n",
      "\t\t\r\n",
      "       AllPub\tAll public Utilities (E,G,W,& S)\t\r\n",
      "       NoSewr\tElectricity, Gas, and Water (Septic Tank)\r\n",
      "       NoSeWa\tElectricity and Gas Only\r\n",
      "       ELO\tElectricity only\t\r\n",
      "\t\r\n",
      "LotConfig: Lot configuration\r\n",
      "\r\n",
      "       Inside\tInside lot\r\n",
      "       Corner\tCorner lot\r\n",
      "       CulDSac\tCul-de-sac\r\n",
      "       FR2\tFrontage on 2 sides of property\r\n",
      "       FR3\tFrontage on 3 sides of property\r\n",
      "\t\r\n",
      "LandSlope: Slope of property\r\n",
      "\t\t\r\n",
      "       Gtl\tGentle slope\r\n",
      "       Mod\tModerate Slope\t\r\n",
      "       Sev\tSevere Slope\r\n",
      "\t\r\n",
      "Neighborhood: Physical locations within Ames city limits\r\n",
      "\r\n",
      "       Blmngtn\tBloomington Heights\r\n",
      "       Blueste\tBluestem\r\n",
      "       BrDale\tBriardale\r\n",
      "       BrkSide\tBrookside\r\n",
      "       ClearCr\tClear Creek\r\n",
      "       CollgCr\tCollege Creek\r\n",
      "       Crawfor\tCrawford\r\n",
      "       Edwards\tEdwards\r\n",
      "       Gilbert\tGilbert\r\n",
      "       IDOTRR\tIowa DOT and Rail Road\r\n",
      "       MeadowV\tMeadow Village\r\n",
      "       Mitchel\tMitchell\r\n",
      "       Names\tNorth Ames\r\n",
      "       NoRidge\tNorthridge\r\n",
      "       NPkVill\tNorthpark Villa\r\n",
      "       NridgHt\tNorthridge Heights\r\n",
      "       NWAmes\tNorthwest Ames\r\n",
      "       OldTown\tOld Town\r\n",
      "       SWISU\tSouth & West of Iowa State University\r\n",
      "       Sawyer\tSawyer\r\n",
      "       SawyerW\tSawyer West\r\n",
      "       Somerst\tSomerset\r\n",
      "       StoneBr\tStone Brook\r\n",
      "       Timber\tTimberland\r\n",
      "       Veenker\tVeenker\r\n",
      "\t\t\t\r\n",
      "Condition1: Proximity to various conditions\r\n",
      "\t\r\n",
      "       Artery\tAdjacent to arterial street\r\n",
      "       Feedr\tAdjacent to feeder street\t\r\n",
      "       Norm\tNormal\t\r\n",
      "       RRNn\tWithin 200' of North-South Railroad\r\n",
      "       RRAn\tAdjacent to North-South Railroad\r\n",
      "       PosN\tNear positive off-site feature--park, greenbelt, etc.\r\n",
      "       PosA\tAdjacent to postive off-site feature\r\n",
      "       RRNe\tWithin 200' of East-West Railroad\r\n",
      "       RRAe\tAdjacent to East-West Railroad\r\n",
      "\t\r\n",
      "Condition2: Proximity to various conditions (if more than one is present)\r\n",
      "\t\t\r\n",
      "       Artery\tAdjacent to arterial street\r\n",
      "       Feedr\tAdjacent to feeder street\t\r\n",
      "       Norm\tNormal\t\r\n",
      "       RRNn\tWithin 200' of North-South Railroad\r\n",
      "       RRAn\tAdjacent to North-South Railroad\r\n",
      "       PosN\tNear positive off-site feature--park, greenbelt, etc.\r\n",
      "       PosA\tAdjacent to postive off-site feature\r\n",
      "       RRNe\tWithin 200' of East-West Railroad\r\n",
      "       RRAe\tAdjacent to East-West Railroad\r\n",
      "\t\r\n",
      "BldgType: Type of dwelling\r\n",
      "\t\t\r\n",
      "       1Fam\tSingle-family Detached\t\r\n",
      "       2FmCon\tTwo-family Conversion; originally built as one-family dwelling\r\n",
      "       Duplx\tDuplex\r\n",
      "       TwnhsE\tTownhouse End Unit\r\n",
      "       TwnhsI\tTownhouse Inside Unit\r\n",
      "\t\r\n",
      "HouseStyle: Style of dwelling\r\n",
      "\t\r\n",
      "       1Story\tOne story\r\n",
      "       1.5Fin\tOne and one-half story: 2nd level finished\r\n",
      "       1.5Unf\tOne and one-half story: 2nd level unfinished\r\n",
      "       2Story\tTwo story\r\n",
      "       2.5Fin\tTwo and one-half story: 2nd level finished\r\n",
      "       2.5Unf\tTwo and one-half story: 2nd level unfinished\r\n",
      "       SFoyer\tSplit Foyer\r\n",
      "       SLvl\tSplit Level\r\n",
      "\t\r\n",
      "OverallQual: Rates the overall material and finish of the house\r\n",
      "\r\n",
      "       10\tVery Excellent\r\n",
      "       9\tExcellent\r\n",
      "       8\tVery Good\r\n",
      "       7\tGood\r\n",
      "       6\tAbove Average\r\n",
      "       5\tAverage\r\n",
      "       4\tBelow Average\r\n",
      "       3\tFair\r\n",
      "       2\tPoor\r\n",
      "       1\tVery Poor\r\n",
      "\t\r\n",
      "OverallCond: Rates the overall condition of the house\r\n",
      "\r\n",
      "       10\tVery Excellent\r\n",
      "       9\tExcellent\r\n",
      "       8\tVery Good\r\n",
      "       7\tGood\r\n",
      "       6\tAbove Average\t\r\n",
      "       5\tAverage\r\n",
      "       4\tBelow Average\t\r\n",
      "       3\tFair\r\n",
      "       2\tPoor\r\n",
      "       1\tVery Poor\r\n",
      "\t\t\r\n",
      "YearBuilt: Original construction date\r\n",
      "\r\n",
      "YearRemodAdd: Remodel date (same as construction date if no remodeling or additions)\r\n",
      "\r\n",
      "RoofStyle: Type of roof\r\n",
      "\r\n",
      "       Flat\tFlat\r\n",
      "       Gable\tGable\r\n",
      "       Gambrel\tGabrel (Barn)\r\n",
      "       Hip\tHip\r\n",
      "       Mansard\tMansard\r\n",
      "       Shed\tShed\r\n",
      "\t\t\r\n",
      "RoofMatl: Roof material\r\n",
      "\r\n",
      "       ClyTile\tClay or Tile\r\n",
      "       CompShg\tStandard (Composite) Shingle\r\n",
      "       Membran\tMembrane\r\n",
      "       Metal\tMetal\r\n",
      "       Roll\tRoll\r\n",
      "       Tar&Grv\tGravel & Tar\r\n",
      "       WdShake\tWood Shakes\r\n",
      "       WdShngl\tWood Shingles\r\n",
      "\t\t\r\n",
      "Exterior1st: Exterior covering on house\r\n",
      "\r\n",
      "       AsbShng\tAsbestos Shingles\r\n",
      "       AsphShn\tAsphalt Shingles\r\n",
      "       BrkComm\tBrick Common\r\n",
      "       BrkFace\tBrick Face\r\n",
      "       CBlock\tCinder Block\r\n",
      "       CemntBd\tCement Board\r\n",
      "       HdBoard\tHard Board\r\n",
      "       ImStucc\tImitation Stucco\r\n",
      "       MetalSd\tMetal Siding\r\n",
      "       Other\tOther\r\n",
      "       Plywood\tPlywood\r\n",
      "       PreCast\tPreCast\t\r\n",
      "       Stone\tStone\r\n",
      "       Stucco\tStucco\r\n",
      "       VinylSd\tVinyl Siding\r\n",
      "       Wd Sdng\tWood Siding\r\n",
      "       WdShing\tWood Shingles\r\n",
      "\t\r\n",
      "Exterior2nd: Exterior covering on house (if more than one material)\r\n",
      "\r\n",
      "       AsbShng\tAsbestos Shingles\r\n",
      "       AsphShn\tAsphalt Shingles\r\n",
      "       BrkComm\tBrick Common\r\n",
      "       BrkFace\tBrick Face\r\n",
      "       CBlock\tCinder Block\r\n",
      "       CemntBd\tCement Board\r\n",
      "       HdBoard\tHard Board\r\n",
      "       ImStucc\tImitation Stucco\r\n",
      "       MetalSd\tMetal Siding\r\n",
      "       Other\tOther\r\n",
      "       Plywood\tPlywood\r\n",
      "       PreCast\tPreCast\r\n",
      "       Stone\tStone\r\n",
      "       Stucco\tStucco\r\n",
      "       VinylSd\tVinyl Siding\r\n",
      "       Wd Sdng\tWood Siding\r\n",
      "       WdShing\tWood Shingles\r\n",
      "\t\r\n",
      "MasVnrType: Masonry veneer type\r\n",
      "\r\n",
      "       BrkCmn\tBrick Common\r\n",
      "       BrkFace\tBrick Face\r\n",
      "       CBlock\tCinder Block\r\n",
      "       None\tNone\r\n",
      "       Stone\tStone\r\n",
      "\t\r\n",
      "MasVnrArea: Masonry veneer area in square feet\r\n",
      "\r\n",
      "ExterQual: Evaluates the quality of the material on the exterior \r\n",
      "\t\t\r\n",
      "       Ex\tExcellent\r\n",
      "       Gd\tGood\r\n",
      "       TA\tAverage/Typical\r\n",
      "       Fa\tFair\r\n",
      "       Po\tPoor\r\n",
      "\t\t\r\n",
      "ExterCond: Evaluates the present condition of the material on the exterior\r\n",
      "\t\t\r\n",
      "       Ex\tExcellent\r\n",
      "       Gd\tGood\r\n",
      "       TA\tAverage/Typical\r\n",
      "       Fa\tFair\r\n",
      "       Po\tPoor\r\n",
      "\t\t\r\n",
      "Foundation: Type of foundation\r\n",
      "\t\t\r\n",
      "       BrkTil\tBrick & Tile\r\n",
      "       CBlock\tCinder Block\r\n",
      "       PConc\tPoured Contrete\t\r\n",
      "       Slab\tSlab\r\n",
      "       Stone\tStone\r\n",
      "       Wood\tWood\r\n",
      "\t\t\r\n",
      "BsmtQual: Evaluates the height of the basement\r\n",
      "\r\n",
      "       Ex\tExcellent (100+ inches)\t\r\n",
      "       Gd\tGood (90-99 inches)\r\n",
      "       TA\tTypical (80-89 inches)\r\n",
      "       Fa\tFair (70-79 inches)\r\n",
      "       Po\tPoor (<70 inches\r\n",
      "       NA\tNo Basement\r\n",
      "\t\t\r\n",
      "BsmtCond: Evaluates the general condition of the basement\r\n",
      "\r\n",
      "       Ex\tExcellent\r\n",
      "       Gd\tGood\r\n",
      "       TA\tTypical - slight dampness allowed\r\n",
      "       Fa\tFair - dampness or some cracking or settling\r\n",
      "       Po\tPoor - Severe cracking, settling, or wetness\r\n",
      "       NA\tNo Basement\r\n",
      "\t\r\n",
      "BsmtExposure: Refers to walkout or garden level walls\r\n",
      "\r\n",
      "       Gd\tGood Exposure\r\n",
      "       Av\tAverage Exposure (split levels or foyers typically score average or above)\t\r\n",
      "       Mn\tMimimum Exposure\r\n",
      "       No\tNo Exposure\r\n",
      "       NA\tNo Basement\r\n",
      "\t\r\n",
      "BsmtFinType1: Rating of basement finished area\r\n",
      "\r\n",
      "       GLQ\tGood Living Quarters\r\n",
      "       ALQ\tAverage Living Quarters\r\n",
      "       BLQ\tBelow Average Living Quarters\t\r\n",
      "       Rec\tAverage Rec Room\r\n",
      "       LwQ\tLow Quality\r\n",
      "       Unf\tUnfinshed\r\n",
      "       NA\tNo Basement\r\n",
      "\t\t\r\n",
      "BsmtFinSF1: Type 1 finished square feet\r\n",
      "\r\n",
      "BsmtFinType2: Rating of basement finished area (if multiple types)\r\n",
      "\r\n",
      "       GLQ\tGood Living Quarters\r\n",
      "       ALQ\tAverage Living Quarters\r\n",
      "       BLQ\tBelow Average Living Quarters\t\r\n",
      "       Rec\tAverage Rec Room\r\n",
      "       LwQ\tLow Quality\r\n",
      "       Unf\tUnfinshed\r\n",
      "       NA\tNo Basement\r\n",
      "\r\n",
      "BsmtFinSF2: Type 2 finished square feet\r\n",
      "\r\n",
      "BsmtUnfSF: Unfinished square feet of basement area\r\n",
      "\r\n",
      "TotalBsmtSF: Total square feet of basement area\r\n",
      "\r\n",
      "Heating: Type of heating\r\n",
      "\t\t\r\n",
      "       Floor\tFloor Furnace\r\n",
      "       GasA\tGas forced warm air furnace\r\n",
      "       GasW\tGas hot water or steam heat\r\n",
      "       Grav\tGravity furnace\t\r\n",
      "       OthW\tHot water or steam heat other than gas\r\n",
      "       Wall\tWall furnace\r\n",
      "\t\t\r\n",
      "HeatingQC: Heating quality and condition\r\n",
      "\r\n",
      "       Ex\tExcellent\r\n",
      "       Gd\tGood\r\n",
      "       TA\tAverage/Typical\r\n",
      "       Fa\tFair\r\n",
      "       Po\tPoor\r\n",
      "\t\t\r\n",
      "CentralAir: Central air conditioning\r\n",
      "\r\n",
      "       N\tNo\r\n",
      "       Y\tYes\r\n",
      "\t\t\r\n",
      "Electrical: Electrical system\r\n",
      "\r\n",
      "       SBrkr\tStandard Circuit Breakers & Romex\r\n",
      "       FuseA\tFuse Box over 60 AMP and all Romex wiring (Average)\t\r\n",
      "       FuseF\t60 AMP Fuse Box and mostly Romex wiring (Fair)\r\n",
      "       FuseP\t60 AMP Fuse Box and mostly knob & tube wiring (poor)\r\n",
      "       Mix\tMixed\r\n",
      "\t\t\r\n",
      "1stFlrSF: First Floor square feet\r\n",
      " \r\n",
      "2ndFlrSF: Second floor square feet\r\n",
      "\r\n",
      "LowQualFinSF: Low quality finished square feet (all floors)\r\n",
      "\r\n",
      "GrLivArea: Above grade (ground) living area square feet\r\n",
      "\r\n",
      "BsmtFullBath: Basement full bathrooms\r\n",
      "\r\n",
      "BsmtHalfBath: Basement half bathrooms\r\n",
      "\r\n",
      "FullBath: Full bathrooms above grade\r\n",
      "\r\n",
      "HalfBath: Half baths above grade\r\n",
      "\r\n",
      "Bedroom: Bedrooms above grade (does NOT include basement bedrooms)\r\n",
      "\r\n",
      "Kitchen: Kitchens above grade\r\n",
      "\r\n",
      "KitchenQual: Kitchen quality\r\n",
      "\r\n",
      "       Ex\tExcellent\r\n",
      "       Gd\tGood\r\n",
      "       TA\tTypical/Average\r\n",
      "       Fa\tFair\r\n",
      "       Po\tPoor\r\n",
      "       \t\r\n",
      "TotRmsAbvGrd: Total rooms above grade (does not include bathrooms)\r\n",
      "\r\n",
      "Functional: Home functionality (Assume typical unless deductions are warranted)\r\n",
      "\r\n",
      "       Typ\tTypical Functionality\r\n",
      "       Min1\tMinor Deductions 1\r\n",
      "       Min2\tMinor Deductions 2\r\n",
      "       Mod\tModerate Deductions\r\n",
      "       Maj1\tMajor Deductions 1\r\n",
      "       Maj2\tMajor Deductions 2\r\n",
      "       Sev\tSeverely Damaged\r\n",
      "       Sal\tSalvage only\r\n",
      "\t\t\r\n",
      "Fireplaces: Number of fireplaces\r\n",
      "\r\n",
      "FireplaceQu: Fireplace quality\r\n",
      "\r\n",
      "       Ex\tExcellent - Exceptional Masonry Fireplace\r\n",
      "       Gd\tGood - Masonry Fireplace in main level\r\n",
      "       TA\tAverage - Prefabricated Fireplace in main living area or Masonry Fireplace in basement\r\n",
      "       Fa\tFair - Prefabricated Fireplace in basement\r\n",
      "       Po\tPoor - Ben Franklin Stove\r\n",
      "       NA\tNo Fireplace\r\n",
      "\t\t\r\n",
      "GarageType: Garage location\r\n",
      "\t\t\r\n",
      "       2Types\tMore than one type of garage\r\n",
      "       Attchd\tAttached to home\r\n",
      "       Basment\tBasement Garage\r\n",
      "       BuiltIn\tBuilt-In (Garage part of house - typically has room above garage)\r\n",
      "       CarPort\tCar Port\r\n",
      "       Detchd\tDetached from home\r\n",
      "       NA\tNo Garage\r\n",
      "\t\t\r\n",
      "GarageYrBlt: Year garage was built\r\n",
      "\t\t\r\n",
      "GarageFinish: Interior finish of the garage\r\n",
      "\r\n",
      "       Fin\tFinished\r\n",
      "       RFn\tRough Finished\t\r\n",
      "       Unf\tUnfinished\r\n",
      "       NA\tNo Garage\r\n",
      "\t\t\r\n",
      "GarageCars: Size of garage in car capacity\r\n",
      "\r\n",
      "GarageArea: Size of garage in square feet\r\n",
      "\r\n",
      "GarageQual: Garage quality\r\n",
      "\r\n",
      "       Ex\tExcellent\r\n",
      "       Gd\tGood\r\n",
      "       TA\tTypical/Average\r\n",
      "       Fa\tFair\r\n",
      "       Po\tPoor\r\n",
      "       NA\tNo Garage\r\n",
      "\t\t\r\n",
      "GarageCond: Garage condition\r\n",
      "\r\n",
      "       Ex\tExcellent\r\n",
      "       Gd\tGood\r\n",
      "       TA\tTypical/Average\r\n",
      "       Fa\tFair\r\n",
      "       Po\tPoor\r\n",
      "       NA\tNo Garage\r\n",
      "\t\t\r\n",
      "PavedDrive: Paved driveway\r\n",
      "\r\n",
      "       Y\tPaved \r\n",
      "       P\tPartial Pavement\r\n",
      "       N\tDirt/Gravel\r\n",
      "\t\t\r\n",
      "WoodDeckSF: Wood deck area in square feet\r\n",
      "\r\n",
      "OpenPorchSF: Open porch area in square feet\r\n",
      "\r\n",
      "EnclosedPorch: Enclosed porch area in square feet\r\n",
      "\r\n",
      "3SsnPorch: Three season porch area in square feet\r\n",
      "\r\n",
      "ScreenPorch: Screen porch area in square feet\r\n",
      "\r\n",
      "PoolArea: Pool area in square feet\r\n",
      "\r\n",
      "PoolQC: Pool quality\r\n",
      "\t\t\r\n",
      "       Ex\tExcellent\r\n",
      "       Gd\tGood\r\n",
      "       TA\tAverage/Typical\r\n",
      "       Fa\tFair\r\n",
      "       NA\tNo Pool\r\n",
      "\t\t\r\n",
      "Fence: Fence quality\r\n",
      "\t\t\r\n",
      "       GdPrv\tGood Privacy\r\n",
      "       MnPrv\tMinimum Privacy\r\n",
      "       GdWo\tGood Wood\r\n",
      "       MnWw\tMinimum Wood/Wire\r\n",
      "       NA\tNo Fence\r\n",
      "\t\r\n",
      "MiscFeature: Miscellaneous feature not covered in other categories\r\n",
      "\t\t\r\n",
      "       Elev\tElevator\r\n",
      "       Gar2\t2nd Garage (if not described in garage section)\r\n",
      "       Othr\tOther\r\n",
      "       Shed\tShed (over 100 SF)\r\n",
      "       TenC\tTennis Court\r\n",
      "       NA\tNone\r\n",
      "\t\t\r\n",
      "MiscVal: $Value of miscellaneous feature\r\n",
      "\r\n",
      "MoSold: Month Sold (MM)\r\n",
      "\r\n",
      "YrSold: Year Sold (YYYY)\r\n",
      "\r\n",
      "SaleType: Type of sale\r\n",
      "\t\t\r\n",
      "       WD \tWarranty Deed - Conventional\r\n",
      "       CWD\tWarranty Deed - Cash\r\n",
      "       VWD\tWarranty Deed - VA Loan\r\n",
      "       New\tHome just constructed and sold\r\n",
      "       COD\tCourt Officer Deed/Estate\r\n",
      "       Con\tContract 15% Down payment regular terms\r\n",
      "       ConLw\tContract Low Down payment and low interest\r\n",
      "       ConLI\tContract Low Interest\r\n",
      "       ConLD\tContract Low Down\r\n",
      "       Oth\tOther\r\n",
      "\t\t\r\n",
      "SaleCondition: Condition of sale\r\n",
      "\r\n",
      "       Normal\tNormal Sale\r\n",
      "       Abnorml\tAbnormal Sale -  trade, foreclosure, short sale\r\n",
      "       AdjLand\tAdjoining Land Purchase\r\n",
      "       Alloca\tAllocation - two linked properties with separate deeds, typically condo with a garage unit\t\r\n",
      "       Family\tSale between family members\r\n",
      "       Partial\tHome was not completed when last assessed (associated with New Homes)\r\n"
     ]
    }
   ],
   "source": [
    "cat ./data_description.txt"
   ]
  },
  {
   "cell_type": "code",
   "execution_count": 11,
   "id": "84fb8f7c",
   "metadata": {},
   "outputs": [],
   "source": [
    "df=pd.read_csv('./train.csv',usecols=[\"SalePrice\", \"MSSubClass\", \"MSZoning\", \"LotFrontage\", \"LotArea\",\n",
    "                                         \"Street\", \"YearBuilt\", \"LotShape\", \"1stFlrSF\", \"2ndFlrSF\"])"
   ]
  },
  {
   "cell_type": "code",
   "execution_count": 12,
   "id": "c03c87dc",
   "metadata": {},
   "outputs": [
    {
     "data": {
      "text/plain": [
       "(1460, 10)"
      ]
     },
     "execution_count": 12,
     "metadata": {},
     "output_type": "execute_result"
    }
   ],
   "source": [
    "df.shape"
   ]
  },
  {
   "cell_type": "code",
   "execution_count": 13,
   "id": "9025a88d",
   "metadata": {},
   "outputs": [
    {
     "data": {
      "text/plain": [
       "MSSubClass       0\n",
       "MSZoning         0\n",
       "LotFrontage    259\n",
       "LotArea          0\n",
       "Street           0\n",
       "LotShape         0\n",
       "YearBuilt        0\n",
       "1stFlrSF         0\n",
       "2ndFlrSF         0\n",
       "SalePrice        0\n",
       "dtype: int64"
      ]
     },
     "execution_count": 13,
     "metadata": {},
     "output_type": "execute_result"
    }
   ],
   "source": [
    "df.isnull().sum()"
   ]
  },
  {
   "cell_type": "code",
   "execution_count": 18,
   "id": "075dd1e4",
   "metadata": {},
   "outputs": [
    {
     "data": {
      "text/plain": [
       "144.0      1\n",
       "106.0      1\n",
       "150.0      1\n",
       "137.0      1\n",
       "46.0       1\n",
       "        ... \n",
       "50.0      57\n",
       "80.0      69\n",
       "70.0      70\n",
       "60.0     143\n",
       "NaN      259\n",
       "Name: LotFrontage, Length: 111, dtype: int64"
      ]
     },
     "execution_count": 18,
     "metadata": {},
     "output_type": "execute_result"
    }
   ],
   "source": [
    "df['LotFrontage'].value_counts(dropna=False).sort_values()"
   ]
  },
  {
   "cell_type": "code",
   "execution_count": 19,
   "id": "af9b54b7",
   "metadata": {},
   "outputs": [],
   "source": [
    "df['LotFrontage'].fillna((df['LotFrontage'].mean()),inplace=True)"
   ]
  },
  {
   "cell_type": "code",
   "execution_count": 20,
   "id": "03e4773c",
   "metadata": {},
   "outputs": [
    {
     "data": {
      "text/plain": [
       "70.049958     259\n",
       "60.000000     143\n",
       "70.000000      70\n",
       "80.000000      69\n",
       "50.000000      57\n",
       "             ... \n",
       "112.000000      1\n",
       "138.000000      1\n",
       "149.000000      1\n",
       "38.000000       1\n",
       "111.000000      1\n",
       "Name: LotFrontage, Length: 111, dtype: int64"
      ]
     },
     "execution_count": 20,
     "metadata": {},
     "output_type": "execute_result"
    }
   ],
   "source": [
    "df['LotFrontage'].value_counts(dropna=False)"
   ]
  },
  {
   "cell_type": "code",
   "execution_count": 21,
   "id": "e93c7ddb",
   "metadata": {},
   "outputs": [
    {
     "data": {
      "text/html": [
       "<div>\n",
       "<style scoped>\n",
       "    .dataframe tbody tr th:only-of-type {\n",
       "        vertical-align: middle;\n",
       "    }\n",
       "\n",
       "    .dataframe tbody tr th {\n",
       "        vertical-align: top;\n",
       "    }\n",
       "\n",
       "    .dataframe thead th {\n",
       "        text-align: right;\n",
       "    }\n",
       "</style>\n",
       "<table border=\"1\" class=\"dataframe\">\n",
       "  <thead>\n",
       "    <tr style=\"text-align: right;\">\n",
       "      <th></th>\n",
       "      <th>MSSubClass</th>\n",
       "      <th>MSZoning</th>\n",
       "      <th>LotFrontage</th>\n",
       "      <th>LotArea</th>\n",
       "      <th>Street</th>\n",
       "      <th>LotShape</th>\n",
       "      <th>YearBuilt</th>\n",
       "      <th>1stFlrSF</th>\n",
       "      <th>2ndFlrSF</th>\n",
       "      <th>SalePrice</th>\n",
       "    </tr>\n",
       "  </thead>\n",
       "  <tbody>\n",
       "    <tr>\n",
       "      <th>0</th>\n",
       "      <td>60</td>\n",
       "      <td>RL</td>\n",
       "      <td>65.000000</td>\n",
       "      <td>8450</td>\n",
       "      <td>Pave</td>\n",
       "      <td>Reg</td>\n",
       "      <td>2003</td>\n",
       "      <td>856</td>\n",
       "      <td>854</td>\n",
       "      <td>208500</td>\n",
       "    </tr>\n",
       "    <tr>\n",
       "      <th>1</th>\n",
       "      <td>20</td>\n",
       "      <td>RL</td>\n",
       "      <td>80.000000</td>\n",
       "      <td>9600</td>\n",
       "      <td>Pave</td>\n",
       "      <td>Reg</td>\n",
       "      <td>1976</td>\n",
       "      <td>1262</td>\n",
       "      <td>0</td>\n",
       "      <td>181500</td>\n",
       "    </tr>\n",
       "    <tr>\n",
       "      <th>2</th>\n",
       "      <td>60</td>\n",
       "      <td>RL</td>\n",
       "      <td>68.000000</td>\n",
       "      <td>11250</td>\n",
       "      <td>Pave</td>\n",
       "      <td>IR1</td>\n",
       "      <td>2001</td>\n",
       "      <td>920</td>\n",
       "      <td>866</td>\n",
       "      <td>223500</td>\n",
       "    </tr>\n",
       "    <tr>\n",
       "      <th>3</th>\n",
       "      <td>70</td>\n",
       "      <td>RL</td>\n",
       "      <td>60.000000</td>\n",
       "      <td>9550</td>\n",
       "      <td>Pave</td>\n",
       "      <td>IR1</td>\n",
       "      <td>1915</td>\n",
       "      <td>961</td>\n",
       "      <td>756</td>\n",
       "      <td>140000</td>\n",
       "    </tr>\n",
       "    <tr>\n",
       "      <th>4</th>\n",
       "      <td>60</td>\n",
       "      <td>RL</td>\n",
       "      <td>84.000000</td>\n",
       "      <td>14260</td>\n",
       "      <td>Pave</td>\n",
       "      <td>IR1</td>\n",
       "      <td>2000</td>\n",
       "      <td>1145</td>\n",
       "      <td>1053</td>\n",
       "      <td>250000</td>\n",
       "    </tr>\n",
       "    <tr>\n",
       "      <th>5</th>\n",
       "      <td>50</td>\n",
       "      <td>RL</td>\n",
       "      <td>85.000000</td>\n",
       "      <td>14115</td>\n",
       "      <td>Pave</td>\n",
       "      <td>IR1</td>\n",
       "      <td>1993</td>\n",
       "      <td>796</td>\n",
       "      <td>566</td>\n",
       "      <td>143000</td>\n",
       "    </tr>\n",
       "    <tr>\n",
       "      <th>6</th>\n",
       "      <td>20</td>\n",
       "      <td>RL</td>\n",
       "      <td>75.000000</td>\n",
       "      <td>10084</td>\n",
       "      <td>Pave</td>\n",
       "      <td>Reg</td>\n",
       "      <td>2004</td>\n",
       "      <td>1694</td>\n",
       "      <td>0</td>\n",
       "      <td>307000</td>\n",
       "    </tr>\n",
       "    <tr>\n",
       "      <th>7</th>\n",
       "      <td>60</td>\n",
       "      <td>RL</td>\n",
       "      <td>70.049958</td>\n",
       "      <td>10382</td>\n",
       "      <td>Pave</td>\n",
       "      <td>IR1</td>\n",
       "      <td>1973</td>\n",
       "      <td>1107</td>\n",
       "      <td>983</td>\n",
       "      <td>200000</td>\n",
       "    </tr>\n",
       "    <tr>\n",
       "      <th>8</th>\n",
       "      <td>50</td>\n",
       "      <td>RM</td>\n",
       "      <td>51.000000</td>\n",
       "      <td>6120</td>\n",
       "      <td>Pave</td>\n",
       "      <td>Reg</td>\n",
       "      <td>1931</td>\n",
       "      <td>1022</td>\n",
       "      <td>752</td>\n",
       "      <td>129900</td>\n",
       "    </tr>\n",
       "    <tr>\n",
       "      <th>9</th>\n",
       "      <td>190</td>\n",
       "      <td>RL</td>\n",
       "      <td>50.000000</td>\n",
       "      <td>7420</td>\n",
       "      <td>Pave</td>\n",
       "      <td>Reg</td>\n",
       "      <td>1939</td>\n",
       "      <td>1077</td>\n",
       "      <td>0</td>\n",
       "      <td>118000</td>\n",
       "    </tr>\n",
       "    <tr>\n",
       "      <th>10</th>\n",
       "      <td>20</td>\n",
       "      <td>RL</td>\n",
       "      <td>70.000000</td>\n",
       "      <td>11200</td>\n",
       "      <td>Pave</td>\n",
       "      <td>Reg</td>\n",
       "      <td>1965</td>\n",
       "      <td>1040</td>\n",
       "      <td>0</td>\n",
       "      <td>129500</td>\n",
       "    </tr>\n",
       "    <tr>\n",
       "      <th>11</th>\n",
       "      <td>60</td>\n",
       "      <td>RL</td>\n",
       "      <td>85.000000</td>\n",
       "      <td>11924</td>\n",
       "      <td>Pave</td>\n",
       "      <td>IR1</td>\n",
       "      <td>2005</td>\n",
       "      <td>1182</td>\n",
       "      <td>1142</td>\n",
       "      <td>345000</td>\n",
       "    </tr>\n",
       "    <tr>\n",
       "      <th>12</th>\n",
       "      <td>20</td>\n",
       "      <td>RL</td>\n",
       "      <td>70.049958</td>\n",
       "      <td>12968</td>\n",
       "      <td>Pave</td>\n",
       "      <td>IR2</td>\n",
       "      <td>1962</td>\n",
       "      <td>912</td>\n",
       "      <td>0</td>\n",
       "      <td>144000</td>\n",
       "    </tr>\n",
       "    <tr>\n",
       "      <th>13</th>\n",
       "      <td>20</td>\n",
       "      <td>RL</td>\n",
       "      <td>91.000000</td>\n",
       "      <td>10652</td>\n",
       "      <td>Pave</td>\n",
       "      <td>IR1</td>\n",
       "      <td>2006</td>\n",
       "      <td>1494</td>\n",
       "      <td>0</td>\n",
       "      <td>279500</td>\n",
       "    </tr>\n",
       "    <tr>\n",
       "      <th>14</th>\n",
       "      <td>20</td>\n",
       "      <td>RL</td>\n",
       "      <td>70.049958</td>\n",
       "      <td>10920</td>\n",
       "      <td>Pave</td>\n",
       "      <td>IR1</td>\n",
       "      <td>1960</td>\n",
       "      <td>1253</td>\n",
       "      <td>0</td>\n",
       "      <td>157000</td>\n",
       "    </tr>\n",
       "    <tr>\n",
       "      <th>15</th>\n",
       "      <td>45</td>\n",
       "      <td>RM</td>\n",
       "      <td>51.000000</td>\n",
       "      <td>6120</td>\n",
       "      <td>Pave</td>\n",
       "      <td>Reg</td>\n",
       "      <td>1929</td>\n",
       "      <td>854</td>\n",
       "      <td>0</td>\n",
       "      <td>132000</td>\n",
       "    </tr>\n",
       "    <tr>\n",
       "      <th>16</th>\n",
       "      <td>20</td>\n",
       "      <td>RL</td>\n",
       "      <td>70.049958</td>\n",
       "      <td>11241</td>\n",
       "      <td>Pave</td>\n",
       "      <td>IR1</td>\n",
       "      <td>1970</td>\n",
       "      <td>1004</td>\n",
       "      <td>0</td>\n",
       "      <td>149000</td>\n",
       "    </tr>\n",
       "    <tr>\n",
       "      <th>17</th>\n",
       "      <td>90</td>\n",
       "      <td>RL</td>\n",
       "      <td>72.000000</td>\n",
       "      <td>10791</td>\n",
       "      <td>Pave</td>\n",
       "      <td>Reg</td>\n",
       "      <td>1967</td>\n",
       "      <td>1296</td>\n",
       "      <td>0</td>\n",
       "      <td>90000</td>\n",
       "    </tr>\n",
       "    <tr>\n",
       "      <th>18</th>\n",
       "      <td>20</td>\n",
       "      <td>RL</td>\n",
       "      <td>66.000000</td>\n",
       "      <td>13695</td>\n",
       "      <td>Pave</td>\n",
       "      <td>Reg</td>\n",
       "      <td>2004</td>\n",
       "      <td>1114</td>\n",
       "      <td>0</td>\n",
       "      <td>159000</td>\n",
       "    </tr>\n",
       "    <tr>\n",
       "      <th>19</th>\n",
       "      <td>20</td>\n",
       "      <td>RL</td>\n",
       "      <td>70.000000</td>\n",
       "      <td>7560</td>\n",
       "      <td>Pave</td>\n",
       "      <td>Reg</td>\n",
       "      <td>1958</td>\n",
       "      <td>1339</td>\n",
       "      <td>0</td>\n",
       "      <td>139000</td>\n",
       "    </tr>\n",
       "  </tbody>\n",
       "</table>\n",
       "</div>"
      ],
      "text/plain": [
       "    MSSubClass MSZoning  LotFrontage  LotArea Street LotShape  YearBuilt  \\\n",
       "0           60       RL    65.000000     8450   Pave      Reg       2003   \n",
       "1           20       RL    80.000000     9600   Pave      Reg       1976   \n",
       "2           60       RL    68.000000    11250   Pave      IR1       2001   \n",
       "3           70       RL    60.000000     9550   Pave      IR1       1915   \n",
       "4           60       RL    84.000000    14260   Pave      IR1       2000   \n",
       "5           50       RL    85.000000    14115   Pave      IR1       1993   \n",
       "6           20       RL    75.000000    10084   Pave      Reg       2004   \n",
       "7           60       RL    70.049958    10382   Pave      IR1       1973   \n",
       "8           50       RM    51.000000     6120   Pave      Reg       1931   \n",
       "9          190       RL    50.000000     7420   Pave      Reg       1939   \n",
       "10          20       RL    70.000000    11200   Pave      Reg       1965   \n",
       "11          60       RL    85.000000    11924   Pave      IR1       2005   \n",
       "12          20       RL    70.049958    12968   Pave      IR2       1962   \n",
       "13          20       RL    91.000000    10652   Pave      IR1       2006   \n",
       "14          20       RL    70.049958    10920   Pave      IR1       1960   \n",
       "15          45       RM    51.000000     6120   Pave      Reg       1929   \n",
       "16          20       RL    70.049958    11241   Pave      IR1       1970   \n",
       "17          90       RL    72.000000    10791   Pave      Reg       1967   \n",
       "18          20       RL    66.000000    13695   Pave      Reg       2004   \n",
       "19          20       RL    70.000000     7560   Pave      Reg       1958   \n",
       "\n",
       "    1stFlrSF  2ndFlrSF  SalePrice  \n",
       "0        856       854     208500  \n",
       "1       1262         0     181500  \n",
       "2        920       866     223500  \n",
       "3        961       756     140000  \n",
       "4       1145      1053     250000  \n",
       "5        796       566     143000  \n",
       "6       1694         0     307000  \n",
       "7       1107       983     200000  \n",
       "8       1022       752     129900  \n",
       "9       1077         0     118000  \n",
       "10      1040         0     129500  \n",
       "11      1182      1142     345000  \n",
       "12       912         0     144000  \n",
       "13      1494         0     279500  \n",
       "14      1253         0     157000  \n",
       "15       854         0     132000  \n",
       "16      1004         0     149000  \n",
       "17      1296         0      90000  \n",
       "18      1114         0     159000  \n",
       "19      1339         0     139000  "
      ]
     },
     "execution_count": 21,
     "metadata": {},
     "output_type": "execute_result"
    }
   ],
   "source": [
    "df.head(20)"
   ]
  },
  {
   "cell_type": "code",
   "execution_count": 22,
   "id": "7bb63559",
   "metadata": {},
   "outputs": [
    {
     "name": "stdout",
     "output_type": "stream",
     "text": [
      "<class 'pandas.core.frame.DataFrame'>\n",
      "RangeIndex: 1460 entries, 0 to 1459\n",
      "Data columns (total 10 columns):\n",
      " #   Column       Non-Null Count  Dtype  \n",
      "---  ------       --------------  -----  \n",
      " 0   MSSubClass   1460 non-null   int64  \n",
      " 1   MSZoning     1460 non-null   object \n",
      " 2   LotFrontage  1460 non-null   float64\n",
      " 3   LotArea      1460 non-null   int64  \n",
      " 4   Street       1460 non-null   object \n",
      " 5   LotShape     1460 non-null   object \n",
      " 6   YearBuilt    1460 non-null   int64  \n",
      " 7   1stFlrSF     1460 non-null   int64  \n",
      " 8   2ndFlrSF     1460 non-null   int64  \n",
      " 9   SalePrice    1460 non-null   int64  \n",
      "dtypes: float64(1), int64(6), object(3)\n",
      "memory usage: 114.2+ KB\n"
     ]
    }
   ],
   "source": [
    "df.info()"
   ]
  },
  {
   "cell_type": "code",
   "execution_count": 23,
   "id": "e3b62023",
   "metadata": {},
   "outputs": [
    {
     "name": "stdout",
     "output_type": "stream",
     "text": [
      "Column name MSSubClass and unique values are 15\n",
      "Column name MSZoning and unique values are 5\n",
      "Column name LotFrontage and unique values are 111\n",
      "Column name LotArea and unique values are 1073\n",
      "Column name Street and unique values are 2\n",
      "Column name LotShape and unique values are 4\n",
      "Column name YearBuilt and unique values are 112\n",
      "Column name 1stFlrSF and unique values are 753\n",
      "Column name 2ndFlrSF and unique values are 417\n",
      "Column name SalePrice and unique values are 663\n"
     ]
    }
   ],
   "source": [
    "for i in df.columns:\n",
    "    print(\"Column name {} and unique values are {}\".format(i,len(df[i].unique())))"
   ]
  },
  {
   "cell_type": "code",
   "execution_count": 24,
   "id": "0fe635ad",
   "metadata": {},
   "outputs": [
    {
     "data": {
      "text/plain": [
       "2021"
      ]
     },
     "execution_count": 24,
     "metadata": {},
     "output_type": "execute_result"
    }
   ],
   "source": [
    "# Today's date\n",
    "import datetime\n",
    "datetime.datetime.now().year"
   ]
  },
  {
   "cell_type": "code",
   "execution_count": 25,
   "id": "46168c71",
   "metadata": {},
   "outputs": [],
   "source": [
    "# How old is the building.\n",
    "df['Total Years']=datetime.datetime.now().year- df['YearBuilt']"
   ]
  },
  {
   "cell_type": "code",
   "execution_count": 26,
   "id": "d512db3c",
   "metadata": {},
   "outputs": [],
   "source": [
    "df.drop(\"YearBuilt\", axis= 1, inplace = True)"
   ]
  },
  {
   "cell_type": "code",
   "execution_count": 27,
   "id": "7cdaaa43",
   "metadata": {},
   "outputs": [],
   "source": [
    "# Creating Categorical features.\n",
    "categorical_features=[\"MSSubClass\", \"MSZoning\", \"Street\", \"LotShape\"]\n",
    "out_feature=\"SalePrice\""
   ]
  },
  {
   "cell_type": "code",
   "execution_count": 28,
   "id": "8c677fd6",
   "metadata": {},
   "outputs": [
    {
     "name": "stdout",
     "output_type": "stream",
     "text": [
      "[ 60  20  70  50 190  45  90 120  30  85  80 160  75 180  40] ['RL' 'RM' 'C (all)' 'FV' 'RH'] ['Pave' 'Grvl'] ['Reg' 'IR1' 'IR2' 'IR3']\n"
     ]
    }
   ],
   "source": [
    "# print the uniques value of each categorical_features.\n",
    "print(df['MSSubClass'].unique(),\n",
    "df['MSZoning'].unique(),\n",
    "df['Street'].unique(),\n",
    "df['LotShape'].unique())"
   ]
  },
  {
   "cell_type": "code",
   "execution_count": 29,
   "id": "0a444724",
   "metadata": {},
   "outputs": [
    {
     "data": {
      "text/plain": [
       "array([5, 0, 5, ..., 6, 0, 0])"
      ]
     },
     "execution_count": 29,
     "metadata": {},
     "output_type": "execute_result"
    }
   ],
   "source": [
    "# For example- Use label encoding for MSSubClass.\n",
    "from sklearn.preprocessing import LabelEncoder\n",
    "lbl_encoders={}\n",
    "# label_encoder object knows how to understand word labels. \n",
    "lbl_encoders[\"MSSubClass\"]=LabelEncoder()\n",
    "# Encode labels in column 'MSSubclass'.\n",
    "lbl_encoders[\"MSSubClass\"].fit_transform(df[\"MSSubClass\"])"
   ]
  },
  {
   "cell_type": "code",
   "execution_count": 30,
   "id": "e2dd0555",
   "metadata": {},
   "outputs": [
    {
     "data": {
      "text/plain": [
       "{'MSSubClass': LabelEncoder()}"
      ]
     },
     "execution_count": 30,
     "metadata": {},
     "output_type": "execute_result"
    }
   ],
   "source": [
    "lbl_encoders"
   ]
  },
  {
   "cell_type": "code",
   "execution_count": 31,
   "id": "e6f7a48a",
   "metadata": {},
   "outputs": [],
   "source": [
    "from sklearn.preprocessing import LabelEncoder\n",
    "lbl_encoders={}\n",
    "# Apply Label encoding for every faeature in categorical feature list.\n",
    "for feature in categorical_features:\n",
    "    lbl_encoders[feature]=LabelEncoder()\n",
    "    df[feature]=lbl_encoders[feature].fit_transform(df[feature])"
   ]
  },
  {
   "cell_type": "code",
   "execution_count": 32,
   "id": "db432636",
   "metadata": {},
   "outputs": [
    {
     "name": "stdout",
     "output_type": "stream",
     "text": [
      "<class 'pandas.core.frame.DataFrame'>\n",
      "RangeIndex: 1460 entries, 0 to 1459\n",
      "Data columns (total 10 columns):\n",
      " #   Column       Non-Null Count  Dtype  \n",
      "---  ------       --------------  -----  \n",
      " 0   MSSubClass   1460 non-null   int64  \n",
      " 1   MSZoning     1460 non-null   int64  \n",
      " 2   LotFrontage  1460 non-null   float64\n",
      " 3   LotArea      1460 non-null   int64  \n",
      " 4   Street       1460 non-null   int64  \n",
      " 5   LotShape     1460 non-null   int64  \n",
      " 6   1stFlrSF     1460 non-null   int64  \n",
      " 7   2ndFlrSF     1460 non-null   int64  \n",
      " 8   SalePrice    1460 non-null   int64  \n",
      " 9   Total Years  1460 non-null   int64  \n",
      "dtypes: float64(1), int64(9)\n",
      "memory usage: 114.2 KB\n"
     ]
    }
   ],
   "source": [
    "df.info()"
   ]
  },
  {
   "cell_type": "code",
   "execution_count": 33,
   "id": "2ec77737",
   "metadata": {},
   "outputs": [
    {
     "data": {
      "text/html": [
       "<div>\n",
       "<style scoped>\n",
       "    .dataframe tbody tr th:only-of-type {\n",
       "        vertical-align: middle;\n",
       "    }\n",
       "\n",
       "    .dataframe tbody tr th {\n",
       "        vertical-align: top;\n",
       "    }\n",
       "\n",
       "    .dataframe thead th {\n",
       "        text-align: right;\n",
       "    }\n",
       "</style>\n",
       "<table border=\"1\" class=\"dataframe\">\n",
       "  <thead>\n",
       "    <tr style=\"text-align: right;\">\n",
       "      <th></th>\n",
       "      <th>MSSubClass</th>\n",
       "      <th>MSZoning</th>\n",
       "      <th>LotFrontage</th>\n",
       "      <th>LotArea</th>\n",
       "      <th>Street</th>\n",
       "      <th>LotShape</th>\n",
       "      <th>1stFlrSF</th>\n",
       "      <th>2ndFlrSF</th>\n",
       "      <th>SalePrice</th>\n",
       "      <th>Total Years</th>\n",
       "    </tr>\n",
       "  </thead>\n",
       "  <tbody>\n",
       "    <tr>\n",
       "      <th>0</th>\n",
       "      <td>5</td>\n",
       "      <td>3</td>\n",
       "      <td>65.0</td>\n",
       "      <td>8450</td>\n",
       "      <td>1</td>\n",
       "      <td>3</td>\n",
       "      <td>856</td>\n",
       "      <td>854</td>\n",
       "      <td>208500</td>\n",
       "      <td>18</td>\n",
       "    </tr>\n",
       "    <tr>\n",
       "      <th>1</th>\n",
       "      <td>0</td>\n",
       "      <td>3</td>\n",
       "      <td>80.0</td>\n",
       "      <td>9600</td>\n",
       "      <td>1</td>\n",
       "      <td>3</td>\n",
       "      <td>1262</td>\n",
       "      <td>0</td>\n",
       "      <td>181500</td>\n",
       "      <td>45</td>\n",
       "    </tr>\n",
       "    <tr>\n",
       "      <th>2</th>\n",
       "      <td>5</td>\n",
       "      <td>3</td>\n",
       "      <td>68.0</td>\n",
       "      <td>11250</td>\n",
       "      <td>1</td>\n",
       "      <td>0</td>\n",
       "      <td>920</td>\n",
       "      <td>866</td>\n",
       "      <td>223500</td>\n",
       "      <td>20</td>\n",
       "    </tr>\n",
       "    <tr>\n",
       "      <th>3</th>\n",
       "      <td>6</td>\n",
       "      <td>3</td>\n",
       "      <td>60.0</td>\n",
       "      <td>9550</td>\n",
       "      <td>1</td>\n",
       "      <td>0</td>\n",
       "      <td>961</td>\n",
       "      <td>756</td>\n",
       "      <td>140000</td>\n",
       "      <td>106</td>\n",
       "    </tr>\n",
       "    <tr>\n",
       "      <th>4</th>\n",
       "      <td>5</td>\n",
       "      <td>3</td>\n",
       "      <td>84.0</td>\n",
       "      <td>14260</td>\n",
       "      <td>1</td>\n",
       "      <td>0</td>\n",
       "      <td>1145</td>\n",
       "      <td>1053</td>\n",
       "      <td>250000</td>\n",
       "      <td>21</td>\n",
       "    </tr>\n",
       "  </tbody>\n",
       "</table>\n",
       "</div>"
      ],
      "text/plain": [
       "   MSSubClass  MSZoning  LotFrontage  LotArea  Street  LotShape  1stFlrSF  \\\n",
       "0           5         3         65.0     8450       1         3       856   \n",
       "1           0         3         80.0     9600       1         3      1262   \n",
       "2           5         3         68.0    11250       1         0       920   \n",
       "3           6         3         60.0     9550       1         0       961   \n",
       "4           5         3         84.0    14260       1         0      1145   \n",
       "\n",
       "   2ndFlrSF  SalePrice  Total Years  \n",
       "0       854     208500           18  \n",
       "1         0     181500           45  \n",
       "2       866     223500           20  \n",
       "3       756     140000          106  \n",
       "4      1053     250000           21  "
      ]
     },
     "execution_count": 33,
     "metadata": {},
     "output_type": "execute_result"
    }
   ],
   "source": [
    "df.head(5)"
   ]
  },
  {
   "cell_type": "code",
   "execution_count": 34,
   "id": "fc466b83",
   "metadata": {},
   "outputs": [
    {
     "data": {
      "text/plain": [
       "array([ 5,  0,  6,  4, 14,  3, 10, 11,  1,  9,  8, 12,  7, 13,  2])"
      ]
     },
     "execution_count": 34,
     "metadata": {},
     "output_type": "execute_result"
    }
   ],
   "source": [
    "df['MSSubClass'].unique()"
   ]
  },
  {
   "cell_type": "code",
   "execution_count": 42,
   "id": "29cb85e2",
   "metadata": {},
   "outputs": [
    {
     "data": {
      "text/plain": [
       "array([[5, 3, 1, 3],\n",
       "       [0, 3, 1, 3],\n",
       "       [5, 3, 1, 0],\n",
       "       ...,\n",
       "       [6, 3, 1, 3],\n",
       "       [0, 3, 1, 3],\n",
       "       [0, 3, 1, 3]])"
      ]
     },
     "execution_count": 42,
     "metadata": {},
     "output_type": "execute_result"
    }
   ],
   "source": [
    "import numpy as np\n",
    "categorical_features=np.stack([df['MSSubClass'],df['MSZoning'],df['Street'],df['LotShape']],1)\n",
    "categorical_features"
   ]
  },
  {
   "cell_type": "code",
   "execution_count": 43,
   "id": "17f732ac",
   "metadata": {},
   "outputs": [
    {
     "data": {
      "text/plain": [
       "(1460, 4)"
      ]
     },
     "execution_count": 43,
     "metadata": {},
     "output_type": "execute_result"
    }
   ],
   "source": [
    "categorical_features.shape"
   ]
  },
  {
   "cell_type": "code",
   "execution_count": 44,
   "id": "439511af",
   "metadata": {},
   "outputs": [
    {
     "data": {
      "text/plain": [
       "tensor([[5, 3, 1, 3],\n",
       "        [0, 3, 1, 3],\n",
       "        [5, 3, 1, 0],\n",
       "        ...,\n",
       "        [6, 3, 1, 3],\n",
       "        [0, 3, 1, 3],\n",
       "        [0, 3, 1, 3]])"
      ]
     },
     "execution_count": 44,
     "metadata": {},
     "output_type": "execute_result"
    }
   ],
   "source": [
    "import torch\n",
    "categorical_features=torch.tensor(categorical_features,dtype=torch.int64)\n",
    "categorical_features"
   ]
  },
  {
   "cell_type": "code",
   "execution_count": 45,
   "id": "43d7c1bc",
   "metadata": {},
   "outputs": [],
   "source": [
    "cont_features=[]\n",
    "for i in df.columns:\n",
    "    if i in [\"MSSubClass\", \"MSZoning\", \"Street\", \"LotShape\",\"SalePrice\"]:\n",
    "        # SalePrice is also included cause it is a dependent feature.\n",
    "        # The pass statement in Python is used when a statement is required syntactically but you do not want any command or code to execute. The pass statement is a null operation; nothing happens when it executes.\n",
    "        pass\n",
    "    else:\n",
    "        cont_features.append(i)"
   ]
  },
  {
   "cell_type": "code",
   "execution_count": 46,
   "id": "1680ac58",
   "metadata": {},
   "outputs": [
    {
     "data": {
      "text/plain": [
       "['LotFrontage', 'LotArea', '1stFlrSF', '2ndFlrSF', 'Total Years']"
      ]
     },
     "execution_count": 46,
     "metadata": {},
     "output_type": "execute_result"
    }
   ],
   "source": [
    "cont_features"
   ]
  },
  {
   "cell_type": "code",
   "execution_count": 47,
   "id": "f3ee4ec4",
   "metadata": {},
   "outputs": [
    {
     "data": {
      "text/plain": [
       "tensor([[   65.,  8450.,   856.,   854.,    18.],\n",
       "        [   80.,  9600.,  1262.,     0.,    45.],\n",
       "        [   68., 11250.,   920.,   866.,    20.],\n",
       "        ...,\n",
       "        [   66.,  9042.,  1188.,  1152.,    80.],\n",
       "        [   68.,  9717.,  1078.,     0.,    71.],\n",
       "        [   75.,  9937.,  1256.,     0.,    56.]])"
      ]
     },
     "execution_count": 47,
     "metadata": {},
     "output_type": "execute_result"
    }
   ],
   "source": [
    "cont_values=np.stack([df[i].values for i in cont_features],axis=1)\n",
    "cont_values=torch.tensor(cont_values,dtype=torch.float)\n",
    "cont_values"
   ]
  },
  {
   "cell_type": "code",
   "execution_count": 48,
   "id": "ada8b564",
   "metadata": {},
   "outputs": [
    {
     "data": {
      "text/plain": [
       "tensor([[   65.,  8450.,   856.,   854.,    18.],\n",
       "        [   80.,  9600.,  1262.,     0.,    45.],\n",
       "        [   68., 11250.,   920.,   866.,    20.],\n",
       "        ...,\n",
       "        [   66.,  9042.,  1188.,  1152.,    80.],\n",
       "        [   68.,  9717.,  1078.,     0.,    71.],\n",
       "        [   75.,  9937.,  1256.,     0.,    56.]])"
      ]
     },
     "execution_count": 48,
     "metadata": {},
     "output_type": "execute_result"
    }
   ],
   "source": [
    "cont_values"
   ]
  },
  {
   "cell_type": "code",
   "execution_count": 49,
   "id": "ca1944ad",
   "metadata": {},
   "outputs": [
    {
     "data": {
      "text/plain": [
       "tensor([[208500.],\n",
       "        [181500.],\n",
       "        [223500.],\n",
       "        ...,\n",
       "        [266500.],\n",
       "        [142125.],\n",
       "        [147500.]])"
      ]
     },
     "execution_count": 49,
     "metadata": {},
     "output_type": "execute_result"
    }
   ],
   "source": [
    "y=torch.tensor(df['SalePrice'].values,dtype=torch.float).reshape(-1,1)\n",
    "y"
   ]
  },
  {
   "cell_type": "code",
   "execution_count": 51,
   "id": "96fe1bb3",
   "metadata": {},
   "outputs": [],
   "source": [
    "# Categorical dimension - the array contains no. of unique values for each feature.\n",
    "cat_dims=[len(df[col].unique()) for col in [\"MSSubClass\", \"MSZoning\", \"Street\", \"LotShape\"]]"
   ]
  },
  {
   "cell_type": "code",
   "execution_count": 52,
   "id": "e66848f3",
   "metadata": {},
   "outputs": [],
   "source": [
    "embedding_dim= [(x, min(50, (x+1 ) // 2)) for x in cat_dims]"
   ]
  },
  {
   "cell_type": "code",
   "execution_count": 53,
   "id": "978d8739",
   "metadata": {},
   "outputs": [
    {
     "data": {
      "text/plain": [
       "[(15, 8), (5, 3), (2, 1), (4, 2)]"
      ]
     },
     "execution_count": 53,
     "metadata": {},
     "output_type": "execute_result"
    }
   ],
   "source": [
    "embedding_dim"
   ]
  },
  {
   "cell_type": "code",
   "execution_count": 54,
   "id": "07a1cba6",
   "metadata": {},
   "outputs": [
    {
     "data": {
      "text/plain": [
       "ModuleList(\n",
       "  (0): Embedding(15, 8)\n",
       "  (1): Embedding(5, 3)\n",
       "  (2): Embedding(2, 1)\n",
       "  (3): Embedding(4, 2)\n",
       ")"
      ]
     },
     "execution_count": 54,
     "metadata": {},
     "output_type": "execute_result"
    }
   ],
   "source": [
    "import torch\n",
    "import torch.nn as nn\n",
    "import torch.nn.functional as F\n",
    "# nn.Embedding - This module is often used to store word embeddings and retrieve them using indices. The input to the module is a list of indices, and the output is the corresponding word embeddings.\n",
    "embed_representation=nn.ModuleList([nn.Embedding(inp,out) for inp,out in embedding_dim])\n",
    "# embedding layer \n",
    "embed_representation"
   ]
  },
  {
   "cell_type": "code",
   "execution_count": 55,
   "id": "abaa1548",
   "metadata": {},
   "outputs": [
    {
     "data": {
      "text/plain": [
       "tensor([[5, 3, 1, 3],\n",
       "        [0, 3, 1, 3],\n",
       "        [5, 3, 1, 0],\n",
       "        ...,\n",
       "        [6, 3, 1, 3],\n",
       "        [0, 3, 1, 3],\n",
       "        [0, 3, 1, 3]])"
      ]
     },
     "execution_count": 55,
     "metadata": {},
     "output_type": "execute_result"
    }
   ],
   "source": [
    "categorical_features"
   ]
  },
  {
   "cell_type": "code",
   "execution_count": 58,
   "id": "65e64257",
   "metadata": {},
   "outputs": [
    {
     "name": "stdout",
     "output_type": "stream",
     "text": [
      "0 Embedding(15, 8)\n",
      "1 Embedding(5, 3)\n",
      "2 Embedding(2, 1)\n",
      "3 Embedding(4, 2)\n"
     ]
    }
   ],
   "source": [
    "# display.max_rows:\n",
    "#       Displays the default number of value. Interpreter reads this value and displays the rows with this value as upper limit to display.\n",
    "pd.set_option('display.max_rows', 500)\n",
    "# Create a null list. It will store the indices of a value of columns of tensor. \n",
    "embedding_val=[]\n",
    "# Here i represent the column of tensor. In categorical_feature each column represent its respective feature.\n",
    "# 'e' coverts the input size of embedding layer to the require output size.\n",
    "#Enumerate() method adds a counter to an iterable and returns it in a form of enumerate object. This enumerate object can then be used directly in for loops or be converted into a list of tuples using list() method.\n",
    "for i,e in enumerate(embed_representation):\n",
    "    print(i,e)\n",
    "    embedding_val.append(e(categorical_features[:,i]))"
   ]
  },
  {
   "cell_type": "code",
   "execution_count": 61,
   "id": "d6caf33c",
   "metadata": {},
   "outputs": [
    {
     "data": {
      "text/plain": [
       "tensor([5, 0, 5,  ..., 6, 0, 0])"
      ]
     },
     "execution_count": 61,
     "metadata": {},
     "output_type": "execute_result"
    }
   ],
   "source": [
    "categorical_features[:,0]"
   ]
  },
  {
   "cell_type": "code",
   "execution_count": 64,
   "id": "c7ffc398",
   "metadata": {},
   "outputs": [
    {
     "data": {
      "text/plain": [
       "[tensor([[-0.7222,  1.7136, -0.2260,  ..., -0.3020,  0.7737,  1.8005],\n",
       "         [-1.0948,  0.7546, -2.6226,  ..., -2.0761, -1.1142, -0.3676],\n",
       "         [-0.7222,  1.7136, -0.2260,  ..., -0.3020,  0.7737,  1.8005],\n",
       "         ...,\n",
       "         [ 0.1075, -1.3904,  0.4018,  ..., -0.0852,  1.7499,  0.2883],\n",
       "         [-1.0948,  0.7546, -2.6226,  ..., -2.0761, -1.1142, -0.3676],\n",
       "         [-1.0948,  0.7546, -2.6226,  ..., -2.0761, -1.1142, -0.3676]],\n",
       "        grad_fn=<EmbeddingBackward>),\n",
       " tensor([[-1.7360,  0.7808,  0.5709],\n",
       "         [-1.7360,  0.7808,  0.5709],\n",
       "         [-1.7360,  0.7808,  0.5709],\n",
       "         ...,\n",
       "         [-1.7360,  0.7808,  0.5709],\n",
       "         [-1.7360,  0.7808,  0.5709],\n",
       "         [-1.7360,  0.7808,  0.5709]], grad_fn=<EmbeddingBackward>),\n",
       " tensor([[-0.9110],\n",
       "         [-0.9110],\n",
       "         [-0.9110],\n",
       "         ...,\n",
       "         [-0.9110],\n",
       "         [-0.9110],\n",
       "         [-0.9110]], grad_fn=<EmbeddingBackward>),\n",
       " tensor([[ 1.3745, -0.4000],\n",
       "         [ 1.3745, -0.4000],\n",
       "         [-0.1268, -0.6267],\n",
       "         ...,\n",
       "         [ 1.3745, -0.4000],\n",
       "         [ 1.3745, -0.4000],\n",
       "         [ 1.3745, -0.4000]], grad_fn=<EmbeddingBackward>)]"
      ]
     },
     "execution_count": 64,
     "metadata": {},
     "output_type": "execute_result"
    }
   ],
   "source": [
    " embedding_val"
   ]
  },
  {
   "cell_type": "code",
   "execution_count": 65,
   "id": "73c0a7a2",
   "metadata": {},
   "outputs": [
    {
     "data": {
      "text/plain": [
       "tensor([[5, 3, 1, 3],\n",
       "        [0, 3, 1, 3],\n",
       "        [5, 3, 1, 0],\n",
       "        [6, 3, 1, 0]])"
      ]
     },
     "execution_count": 65,
     "metadata": {},
     "output_type": "execute_result"
    }
   ],
   "source": [
    "cat_featuresz=categorical_features[:4]\n",
    "cat_featuresz"
   ]
  },
  {
   "cell_type": "code",
   "execution_count": 67,
   "id": "92a6dda1",
   "metadata": {},
   "outputs": [
    {
     "data": {
      "text/plain": [
       "[tensor([[-0.7222,  1.7136, -0.2260,  ..., -0.3020,  0.7737,  1.8005],\n",
       "         [-1.0948,  0.7546, -2.6226,  ..., -2.0761, -1.1142, -0.3676],\n",
       "         [-0.7222,  1.7136, -0.2260,  ..., -0.3020,  0.7737,  1.8005],\n",
       "         ...,\n",
       "         [ 0.1075, -1.3904,  0.4018,  ..., -0.0852,  1.7499,  0.2883],\n",
       "         [-1.0948,  0.7546, -2.6226,  ..., -2.0761, -1.1142, -0.3676],\n",
       "         [-1.0948,  0.7546, -2.6226,  ..., -2.0761, -1.1142, -0.3676]],\n",
       "        grad_fn=<EmbeddingBackward>),\n",
       " tensor([[-1.7360,  0.7808,  0.5709],\n",
       "         [-1.7360,  0.7808,  0.5709],\n",
       "         [-1.7360,  0.7808,  0.5709],\n",
       "         ...,\n",
       "         [-1.7360,  0.7808,  0.5709],\n",
       "         [-1.7360,  0.7808,  0.5709],\n",
       "         [-1.7360,  0.7808,  0.5709]], grad_fn=<EmbeddingBackward>),\n",
       " tensor([[-0.9110],\n",
       "         [-0.9110],\n",
       "         [-0.9110],\n",
       "         ...,\n",
       "         [-0.9110],\n",
       "         [-0.9110],\n",
       "         [-0.9110]], grad_fn=<EmbeddingBackward>),\n",
       " tensor([[ 1.3745, -0.4000],\n",
       "         [ 1.3745, -0.4000],\n",
       "         [-0.1268, -0.6267],\n",
       "         ...,\n",
       "         [ 1.3745, -0.4000],\n",
       "         [ 1.3745, -0.4000],\n",
       "         [ 1.3745, -0.4000]], grad_fn=<EmbeddingBackward>)]"
      ]
     },
     "execution_count": 67,
     "metadata": {},
     "output_type": "execute_result"
    }
   ],
   "source": [
    "# Print the embedded values.\n",
    "embedding_val"
   ]
  },
  {
   "cell_type": "code",
   "execution_count": 68,
   "id": "8704587a",
   "metadata": {},
   "outputs": [
    {
     "data": {
      "text/plain": [
       "tensor([[-0.7222,  1.7136, -0.2260,  ..., -0.9110,  1.3745, -0.4000],\n",
       "        [-1.0948,  0.7546, -2.6226,  ..., -0.9110,  1.3745, -0.4000],\n",
       "        [-0.7222,  1.7136, -0.2260,  ..., -0.9110, -0.1268, -0.6267],\n",
       "        ...,\n",
       "        [ 0.1075, -1.3904,  0.4018,  ..., -0.9110,  1.3745, -0.4000],\n",
       "        [-1.0948,  0.7546, -2.6226,  ..., -0.9110,  1.3745, -0.4000],\n",
       "        [-1.0948,  0.7546, -2.6226,  ..., -0.9110,  1.3745, -0.4000]],\n",
       "       grad_fn=<CatBackward>)"
      ]
     },
     "execution_count": 68,
     "metadata": {},
     "output_type": "execute_result"
    }
   ],
   "source": [
    "# Arrange the 4 tensors in one tensor in 4 column. Concatenating the 4 tensors.\n",
    "z = torch.cat(embedding_val, 1)\n",
    "z"
   ]
  },
  {
   "cell_type": "code",
   "execution_count": 69,
   "id": "69ad36e0",
   "metadata": {},
   "outputs": [],
   "source": [
    "# Implement dropupout\n",
    "droput=nn.Dropout(.4)"
   ]
  },
  {
   "cell_type": "code",
   "execution_count": 70,
   "id": "69a2db4b",
   "metadata": {},
   "outputs": [
    {
     "data": {
      "text/plain": [
       "tensor([[-1.2036,  0.0000, -0.0000,  ..., -0.0000,  0.0000, -0.6666],\n",
       "        [-1.8246,  0.0000, -0.0000,  ..., -0.0000,  0.0000, -0.0000],\n",
       "        [-1.2036,  0.0000, -0.3766,  ..., -1.5183, -0.2114, -0.0000],\n",
       "        ...,\n",
       "        [ 0.0000, -0.0000,  0.0000,  ..., -0.0000,  0.0000, -0.0000],\n",
       "        [-0.0000,  1.2577, -0.0000,  ..., -1.5183,  0.0000, -0.6666],\n",
       "        [-0.0000,  0.0000, -4.3710,  ..., -0.0000,  2.2908, -0.6666]],\n",
       "       grad_fn=<MulBackward0>)"
      ]
     },
     "execution_count": 70,
     "metadata": {},
     "output_type": "execute_result"
    }
   ],
   "source": [
    "# Perform the dropout on concatenated tensor i.e z\n",
    "final_embed=droput(z)\n",
    "final_embed"
   ]
  },
  {
   "cell_type": "code",
   "execution_count": 71,
   "id": "a71fe784",
   "metadata": {},
   "outputs": [],
   "source": [
    "DEVICE = torch.device(\"cuda\" if torch.cuda.is_available() else \"cpu\")"
   ]
  },
  {
   "cell_type": "code",
   "execution_count": 72,
   "id": "e124c32b",
   "metadata": {},
   "outputs": [],
   "source": [
    "# Create a Feed Forward Neural Network\n",
    "import torch\n",
    "import torch.nn as nn\n",
    "import torch.nn.functional as F\n",
    "# Define a class for model.\n",
    "class FeedForwardNN(nn.Module):\n",
    "    \n",
    "    # function contains embedding dimension, no. of continuous values, output, layers and dropout value.\n",
    "    def __init__(self, embedding_dim, n_cont, out_sz, layers, p=0.5):\n",
    "        super().__init__()\n",
    "        # Create a module list for embedding layers.\n",
    "        self.embeds = nn.ModuleList([nn.Embedding(inp,out) for inp,out in embedding_dim])\n",
    "        self.emb_drop = nn.Dropout(p)\n",
    "        self.bn_cont = nn.BatchNorm1d(n_cont)\n",
    "        \n",
    "        layerlist = []\n",
    "        # n_emb = embedding dimension, n_cont = no.of continuous values.\n",
    "        n_emb = sum((out for inp,out in embedding_dim))\n",
    "        # n_in = input.\n",
    "        n_in = n_emb + n_cont\n",
    "        \n",
    "        for i in layers:\n",
    "            layerlist.append(nn.Linear(n_in,i)) \n",
    "            layerlist.append(nn.ReLU(inplace=True))\n",
    "            # Since our input is a 1D array we will use BatchNorm1d class present in the Pytorch nn module.\n",
    "            layerlist.append(nn.BatchNorm1d(i))\n",
    "            layerlist.append(nn.Dropout(p))\n",
    "            n_in = i\n",
    "        layerlist.append(nn.Linear(layers[-1],out_sz))\n",
    "            \n",
    "        self.layers = nn.Sequential(*layerlist)\n",
    "    \n",
    "    def forward(self, x_cat, x_cont):\n",
    "        embeddings = []\n",
    "        # emedding the categorical features.\n",
    "        for i,e in enumerate(self.embeds):\n",
    "            embeddings.append(e(x_cat[:,i]))\n",
    "        x = torch.cat(embeddings, 1)\n",
    "        x = self.emb_drop(x)\n",
    "        \n",
    "        x_cont = self.bn_cont(x_cont)\n",
    "        x = torch.cat([x, x_cont], 1)\n",
    "        x = self.layers(x)\n",
    "        return x"
   ]
  },
  {
   "cell_type": "code",
   "execution_count": null,
   "id": "d745e547",
   "metadata": {},
   "outputs": [],
   "source": []
  }
 ],
 "metadata": {
  "kernelspec": {
   "display_name": "Python 3",
   "language": "python",
   "name": "python3"
  },
  "language_info": {
   "codemirror_mode": {
    "name": "ipython",
    "version": 3
   },
   "file_extension": ".py",
   "mimetype": "text/x-python",
   "name": "python",
   "nbconvert_exporter": "python",
   "pygments_lexer": "ipython3",
   "version": "3.8.5"
  }
 },
 "nbformat": 4,
 "nbformat_minor": 5
}
